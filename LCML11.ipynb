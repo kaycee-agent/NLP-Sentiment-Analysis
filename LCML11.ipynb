{
  "nbformat": 4,
  "nbformat_minor": 0,
  "metadata": {
    "colab": {
      "name": "LCML11.ipynb",
      "provenance": [],
      "collapsed_sections": [],
      "authorship_tag": "ABX9TyMSkAuZ2BFs0XuciGmyHJEC"
    },
    "kernelspec": {
      "name": "python3",
      "display_name": "Python 3"
    }
  },
  "cells": [
    {
      "cell_type": "markdown",
      "metadata": {
        "id": "BPmOHkx4xDi4"
      },
      "source": [
        "# Lab Course Machine Learning\r\n",
        "## Exercise Sheet 11\r\n",
        "##### January, 2021  \r\n",
        "##### Kenechukwu Ejimofor\r\n",
        "###### Data Analytics\r\n",
        "###### Matriculation number: 309965\r\n",
        "###### Group 1\r\n",
        "<center>\r\n",
        "<b>\r\n",
        "Information Systems and Machine Learning Lab<br>\r\n",
        "University of Hildesheim<br>\r\n",
        "</b>\r\n",
        "<br>\r\n",
        "<br>\r\n",
        "<img src=\"https://upload.wikimedia.org/wikipedia/commons/thumb/b/b0/Universit%C3%A4t_Hildesheim_logo.svg/1200px-Universit%C3%A4t_Hildesheim_logo.svg.png\" height=\"10%\" width=\"10%\">\r\n",
        "</center>\r\n",
        "\r\n"
      ]
    },
    {
      "cell_type": "markdown",
      "metadata": {
        "id": "AUBvp7VKxXiP"
      },
      "source": [
        "#### Exercise 0: Preprocessing Text Data"
      ]
    },
    {
      "cell_type": "code",
      "metadata": {
        "id": "ZpItuM4sw6SO"
      },
      "source": [
        "from sklearn.datasets import fetch_20newsgroups\r\n",
        "import numpy as np"
      ],
      "execution_count": null,
      "outputs": []
    },
    {
      "cell_type": "code",
      "metadata": {
        "id": "52U4BX_SxgrI"
      },
      "source": [
        "category = [ 'sci.med', 'comp.graphics']\r\n",
        "dataset =  fetch_20newsgroups(subset='train',categories=category,random_state=3116)"
      ],
      "execution_count": null,
      "outputs": []
    },
    {
      "cell_type": "markdown",
      "metadata": {
        "id": "t3l6NmlFsZYs"
      },
      "source": [
        "Preview of an example in the dataset"
      ]
    },
    {
      "cell_type": "code",
      "metadata": {
        "colab": {
          "base_uri": "https://localhost:8080/"
        },
        "id": "TdARW43HsNSI",
        "outputId": "9ef0c48f-54a4-4112-d010-3cf987016681"
      },
      "source": [
        "print(dataset.data[0])"
      ],
      "execution_count": null,
      "outputs": [
        {
          "output_type": "stream",
          "text": [
            "From: kaminski@netcom.com (Peter Kaminski)\n",
            "Subject: Re: Krillean Photography\n",
            "Lines: 101\n",
            "Organization: The Information Deli - via Netcom / San Jose, California\n",
            "\n",
            "[Newsgroups: m.h.a added, followups set to most appropriate groups.]\n",
            "\n",
            "In <1993Apr19.205615.1013@unlv.edu> todamhyp@charles.unlv.edu (Brian M.\n",
            "Huey) writes:\n",
            "\n",
            ">I am looking for any information/supplies that will allow\n",
            ">do-it-yourselfers to take Krillean Pictures.\n",
            "\n",
            "(It's \"Kirlian\".  \"Krillean\" pictures are portraits of tiny shrimp. :)\n",
            "\n",
            "[...]\n",
            "\n",
            ">One might extrapolate here and say that this proves that every object\n",
            ">within the universe (as we know it) has its own energy signature.\n",
            "\n",
            "I think it's safe to say that anything that's not at 0 degrees Kelvin\n",
            "will have its own \"energy signature\" -- the interesting questions are\n",
            "what kind of energy, and what it signifies.\n",
            "\n",
            "I'd check places like Edmund Scientific (are they still in business?) --\n",
            "or I wonder if you can find ex-Soviet Union equipment for sale somewhere\n",
            "in the relcom.* hierarchy.\n",
            "\n",
            "Some expansion on Kirlian photography:\n",
            "\n",
            "From the credulous side: [Stanway, Andrew, _Alternative Medicine: A Guide\n",
            "To Natural Therapies_, ISBN 0-14-008561-0, New York: Viking Penguin, 1986,\n",
            "p211, p188.  A not-overly critical but still useful overview of 32\n",
            "alternative health therapies.]\n",
            "\n",
            "  ...the Russian engineer Semyon Kirlian and his wife Valentina during the\n",
            "  1950s.  Using alternating currents of high frequency to 'illuminate'\n",
            "  their subjects, they photographed them.  They found that if an object\n",
            "  was a good conductor (such as a metal) the picture showed only its\n",
            "  surface, while the pictures of poor conductors showed the inner\n",
            "  structure of the object even if it were optically opaque.  They found\n",
            "  too that these high frequency pictures could distinguish between dead\n",
            "  and living objects.  Dead ones had a constant outline whilst living ones\n",
            "  were subject to changes.  The object's life activity was also visible in\n",
            "  highly variable colour patterns.\n",
            "\n",
            "  High frequency photography has now been practised for twenty years in\n",
            "  the Soviet Union but only a few people in the West have taken it up\n",
            "  seriously.  Professor Douglas Dean in New York and Professor Philips at\n",
            "  Washington University in St Louis have produced Kirlian photographs and\n",
            "  others have been produced in Brazil, Austria and Germany.\n",
            "\n",
            "  Using Kirlian photography it is possible to show an aura around people's\n",
            "  fingers, notably around those of healers who are concentrating on\n",
            "  healing someone.  Normally, blue and white rays emanate from the fingers\n",
            "  but, when a subject becomes angry or excited, the aura turns red and\n",
            "  spotty.  The Soviets are now using Kirlian photography to diagnose\n",
            "  diseases which cannot be diagnosed by any other method.  They argue that\n",
            "  in most illnesses there is a preclinical stage during which the person\n",
            "  isn't actually ill but is about to be.  They claim to be able to\n",
            "  foretell a disease by photographing its preclinical phase.\n",
            "\n",
            "  But the most exciting phenomenon illustrated by Kirlian photography is\n",
            "  the phantom effect.  During high frequency photography of a leaf from\n",
            "  which a part had been cut, the photograph gave a complete picture of the\n",
            "  leaf with the removed part showing up faintly.  This is extremely\n",
            "  important because it backs up the experiences of psychics who can 'see'\n",
            "  the legs of amputees as if they were still there.  The important thing\n",
            "  about the Kirlian phantoms though is that the electromagnetic pattern\n",
            "  can't possibly represent a secondary phenomenon -- or the field would\n",
            "  vanish when the piece of leaf or leg vanished.  The energy grid\n",
            "  contained in a living object must therefore be far more significant than\n",
            "  the actual object itself.\n",
            "\n",
            "  [...]\n",
            "\n",
            "  Kirlian photography has shown how water mentally 'charged' by a healer\n",
            "  has a much richer energy field around it than ordinary water...\n",
            "\n",
            "\n",
            "From the incredulous side: [MacRobert, Alan, \"Reality shopping; a\n",
            "consumer's guide to new age hokum.\", _Whole Earth Review_, Autumn 1986,\n",
            "vNON4 p4(11).  An excellent article providing common-sense guidelines for\n",
            "evaluating paranormal claims, and some of the author's favorite examples\n",
            "of hokum.]\n",
            "\n",
            "  The crank usually works in isolation from everyone else in his field of\n",
            "  study, making grand discoveries in his basement.  Many paranormal\n",
            "  movements can be traced back to such people -- Kirlian photography, for\n",
            "  instance.  If you pump high-voltage electricity into anything it will\n",
            "  emit glowing sparks, common knowledge to electrical workers and\n",
            "  hobbyists for a century.  It took a lone basement crank to declare that\n",
            "  the sparks represent some sort of spiritual aura.  In fact, Kirlian\n",
            "  photography was subjected to rigorous testing by physicists John O.\n",
            "  Pehek, Harry J. Kyler, and David L. Faust, who reported their findings\n",
            "  in the October 15, 1976, issue of Science.  Their conclusion: The\n",
            "  variations observed in Kirlian photographs are due solely to moisture on\n",
            "  the surface of the body and not to mysterious \"auras\" or even\n",
            "  necessarily to changes in mood or mental state.  Nevertheless,\n",
            "  television shows, magazines, and books (many by famous\n",
            "  parapsychologists) continue to promote Kirlian photography as proof of\n",
            "  the unknown.\n",
            "\n",
            "-- \n",
            "Peter Kaminski\n",
            "kaminski@netcom.com\n",
            "\n"
          ],
          "name": "stdout"
        }
      ]
    },
    {
      "cell_type": "code",
      "metadata": {
        "colab": {
          "base_uri": "https://localhost:8080/"
        },
        "id": "-pqUArbZsmBq",
        "outputId": "5ebcec13-79c1-45ea-903b-17d00abfeb22"
      },
      "source": [
        "print(\"\\n\".join(dataset.data[0].split(\"\\n\")[:3]))"
      ],
      "execution_count": null,
      "outputs": [
        {
          "output_type": "stream",
          "text": [
            "From: kaminski@netcom.com (Peter Kaminski)\n",
            "Subject: Re: Krillean Photography\n",
            "Lines: 101\n"
          ],
          "name": "stdout"
        }
      ]
    },
    {
      "cell_type": "code",
      "metadata": {
        "colab": {
          "base_uri": "https://localhost:8080/"
        },
        "id": "YJPcEqPjh8Cz",
        "outputId": "5131c0fe-a94e-4a2d-8c96-2dbefb0a63b4"
      },
      "source": [
        "#Example classification\r\n",
        "print(dataset.target_names[0])"
      ],
      "execution_count": null,
      "outputs": [
        {
          "output_type": "stream",
          "text": [
            "comp.graphics\n"
          ],
          "name": "stdout"
        }
      ]
    },
    {
      "cell_type": "markdown",
      "metadata": {
        "id": "Hh1YX76lssFr"
      },
      "source": [
        "### Preprocessing textual data to remove punctuation, stop-words \r\n",
        "- I decided to stem the words in other to reduce the maximum size in the count vectorizer during Tokenization"
      ]
    },
    {
      "cell_type": "code",
      "metadata": {
        "colab": {
          "base_uri": "https://localhost:8080/"
        },
        "id": "iDxjXDQPxtSF",
        "outputId": "8fb62d19-7c28-419d-ddda-bf10f00ab625"
      },
      "source": [
        "import re\r\n",
        "import nltk\r\n",
        "nltk.download('stopwords')\r\n",
        "from nltk.corpus import stopwords\r\n",
        "from nltk.stem.porter import PorterStemmer\r\n",
        "corpus = [] #list to get processed data\r\n",
        "'''We remove all the punctuations by replacing them with spaces\r\n",
        "we do this by looping through the data and replacing any element\r\n",
        "that is not in the alphabet both upper and lower cases then convert the\r\n",
        "whole data to lower case'''\r\n",
        "for i in range(0, len(dataset.data)):\r\n",
        "  news = re.sub('[^a-zA-Z]',' ', dataset.data[i]) \r\n",
        "  news = news.lower()\r\n",
        "  news = news.split()\r\n",
        "  stemmer = PorterStemmer() #stemming class\r\n",
        "  news = [stemmer.stem(j) for j in news if not j in set(stopwords.words('english'))] \r\n",
        "  #We loop through the data to only input words absent from the stopwords\r\n",
        "  news = ' '.join(news) #join words and add space\r\n",
        "  corpus.append(news)"
      ],
      "execution_count": null,
      "outputs": [
        {
          "output_type": "stream",
          "text": [
            "[nltk_data] Downloading package stopwords to /root/nltk_data...\n",
            "[nltk_data]   Package stopwords is already up-to-date!\n"
          ],
          "name": "stdout"
        }
      ]
    },
    {
      "cell_type": "code",
      "metadata": {
        "colab": {
          "base_uri": "https://localhost:8080/"
        },
        "id": "GvZllaVUCZLK",
        "outputId": "71850a6b-8b39-4107-950f-c121bb9ddde2"
      },
      "source": [
        "len(corpus)"
      ],
      "execution_count": null,
      "outputs": [
        {
          "output_type": "execute_result",
          "data": {
            "text/plain": [
              "1178"
            ]
          },
          "metadata": {
            "tags": []
          },
          "execution_count": 4
        }
      ]
    },
    {
      "cell_type": "code",
      "metadata": {
        "colab": {
          "base_uri": "https://localhost:8080/",
          "height": 137
        },
        "id": "yWPWPcDPCfIz",
        "outputId": "72c8cdc3-d2d0-4d81-965f-928140c6954d"
      },
      "source": [
        "#preview data\r\n",
        "corpus[0]"
      ],
      "execution_count": null,
      "outputs": [
        {
          "output_type": "execute_result",
          "data": {
            "application/vnd.google.colaboratory.intrinsic+json": {
              "type": "string"
            },
            "text/plain": [
              "'kaminski netcom com peter kaminski subject krillean photographi line organ inform deli via netcom san jose california newsgroup h ad followup set appropri group apr unlv edu todamhyp charl unlv edu brian huey write look inform suppli allow yourself take krillean pictur kirlian krillean pictur portrait tini shrimp one might extrapol say prove everi object within univers know energi signatur think safe say anyth degre kelvin energi signatur interest question kind energi signifi check place like edmund scientif still busi wonder find ex soviet union equip sale somewher relcom hierarchi expans kirlian photographi credul side stanway andrew altern medicin guid natur therapi isbn new york vike penguin p p overli critic still use overview altern health therapi russian engin semyon kirlian wife valentina use altern current high frequenc illumin subject photograph found object good conductor metal pictur show surfac pictur poor conductor show inner structur object even optic opaqu found high frequenc pictur could distinguish dead live object dead one constant outlin whilst live one subject chang object life activ also visibl highli variabl colour pattern high frequenc photographi practis twenti year soviet union peopl west taken serious professor dougla dean new york professor philip washington univers st loui produc kirlian photograph other produc brazil austria germani use kirlian photographi possibl show aura around peopl finger notabl around healer concentr heal someon normal blue white ray eman finger subject becom angri excit aura turn red spotti soviet use kirlian photographi diagnos diseas cannot diagnos method argu ill preclin stage person actual ill claim abl foretel diseas photograph preclin phase excit phenomenon illustr kirlian photographi phantom effect high frequenc photographi leaf part cut photograph gave complet pictur leaf remov part show faintli extrem import back experi psychic see leg ampute still import thing kirlian phantom though electromagnet pattern possibl repres secondari phenomenon field would vanish piec leaf leg vanish energi grid contain live object must therefor far signific actual object kirlian photographi shown water mental charg healer much richer energi field around ordinari water incredul side macrobert alan realiti shop consum guid new age hokum whole earth review autumn vnon p excel articl provid common sens guidelin evalu paranorm claim author favorit exampl hokum crank usual work isol everyon els field studi make grand discoveri basement mani paranorm movement trace back peopl kirlian photographi instanc pump high voltag electr anyth emit glow spark common knowledg electr worker hobbyist centuri took lone basement crank declar spark repres sort spiritu aura fact kirlian photographi subject rigor test physicist john pehek harri j kyler david l faust report find octob issu scienc conclus variat observ kirlian photograph due sole moistur surfac bodi mysteri aura even necessarili chang mood mental state nevertheless televis show magazin book mani famou parapsychologist continu promot kirlian photographi proof unknown peter kaminski kaminski netcom com'"
            ]
          },
          "metadata": {
            "tags": []
          },
          "execution_count": 5
        }
      ]
    },
    {
      "cell_type": "markdown",
      "metadata": {
        "id": "0TnCifKmDrqX"
      },
      "source": [
        "- Bag of words model"
      ]
    },
    {
      "cell_type": "code",
      "metadata": {
        "id": "ozJFaiczDXKm"
      },
      "source": [
        "from sklearn.feature_extraction.text import CountVectorizer\r\n",
        "cv = CountVectorizer()  #for Tokenization\r\n",
        "X = cv.fit_transform(corpus).toarray()\r\n",
        "y = dataset.target"
      ],
      "execution_count": null,
      "outputs": []
    },
    {
      "cell_type": "code",
      "metadata": {
        "colab": {
          "base_uri": "https://localhost:8080/"
        },
        "id": "KEcg0XQxFFwl",
        "outputId": "d534a8a7-ace6-4cc0-da40-a349b312800b"
      },
      "source": [
        "#preview \r\n",
        "len(X[0])"
      ],
      "execution_count": null,
      "outputs": [
        {
          "output_type": "execute_result",
          "data": {
            "text/plain": [
              "15907"
            ]
          },
          "metadata": {
            "tags": []
          },
          "execution_count": 7
        }
      ]
    },
    {
      "cell_type": "markdown",
      "metadata": {
        "id": "w9TwwJVEFr4p"
      },
      "source": [
        "Show that there are 15907 different words after stemming has been applied"
      ]
    },
    {
      "cell_type": "code",
      "metadata": {
        "colab": {
          "base_uri": "https://localhost:8080/"
        },
        "id": "utjvtNInHWOs",
        "outputId": "5195bacf-7250-45a3-de46-feea6627ec07"
      },
      "source": [
        "len(y)"
      ],
      "execution_count": null,
      "outputs": [
        {
          "output_type": "execute_result",
          "data": {
            "text/plain": [
              "1178"
            ]
          },
          "metadata": {
            "tags": []
          },
          "execution_count": 8
        }
      ]
    },
    {
      "cell_type": "markdown",
      "metadata": {
        "id": "UnrxFhyEF_-g"
      },
      "source": [
        "- Tf-IDF"
      ]
    },
    {
      "cell_type": "code",
      "metadata": {
        "colab": {
          "base_uri": "https://localhost:8080/"
        },
        "id": "v6cxYL14FHtU",
        "outputId": "a8d6a910-7a18-4613-c6de-baf370d57131"
      },
      "source": [
        "from sklearn.feature_extraction.text import TfidfTransformer\r\n",
        "tfidf_transformer = TfidfTransformer()\r\n",
        "X_tfidf = tfidf_transformer.fit_transform(X)\r\n",
        "X_tfidf.shape"
      ],
      "execution_count": null,
      "outputs": [
        {
          "output_type": "execute_result",
          "data": {
            "text/plain": [
              "(1178, 15907)"
            ]
          },
          "metadata": {
            "tags": []
          },
          "execution_count": 9
        }
      ]
    },
    {
      "cell_type": "markdown",
      "metadata": {
        "id": "5cUP8OXlIMDV"
      },
      "source": [
        "Splitting the dataset randomly into train / validation / test splits according to ratios 80%:10%:10%"
      ]
    },
    {
      "cell_type": "code",
      "metadata": {
        "colab": {
          "base_uri": "https://localhost:8080/"
        },
        "id": "AgI-WfzSF2tA",
        "outputId": "06b9485a-5664-499a-80c9-5bf1feac7cff"
      },
      "source": [
        "from sklearn.model_selection import train_test_split\r\n",
        "X_train,X_test,y_train,y_test = train_test_split(X,y,test_size =0.10, random_state =3116)\r\n",
        "X_train,X_val,y_train,y_val = train_test_split(X_train,y_train,test_size =0.111, random_state =3116)\r\n",
        "print(\"Train Set size:\")\r\n",
        "print(X_train.shape,y_train.shape)\r\n",
        "print(\"Validation Set size:\")\r\n",
        "print(X_val.shape,y_val.shape)\r\n",
        "print(\"Test set size:\")\r\n",
        "print(X_test.shape,y_test.shape)"
      ],
      "execution_count": null,
      "outputs": [
        {
          "output_type": "stream",
          "text": [
            "Train Set size:\n",
            "(942, 15907) (942,)\n",
            "Validation Set size:\n",
            "(118, 15907) (118,)\n",
            "Test set size:\n",
            "(118, 15907) (118,)\n"
          ],
          "name": "stdout"
        }
      ]
    },
    {
      "cell_type": "markdown",
      "metadata": {
        "id": "h6ajm56VLJ27"
      },
      "source": [
        "#### Exercise 1: Implementing Naive Bayes Classifier for Text Data"
      ]
    },
    {
      "cell_type": "code",
      "metadata": {
        "id": "m1VIYIdIXaDG"
      },
      "source": [
        "class MultinomialNB():\r\n",
        "\r\n",
        "  def __init__(self, alpha=1):\r\n",
        "    self.alpha = alpha \r\n",
        "\r\n",
        "  def fit(self, X_train, y_train):\r\n",
        "      m, n = X_train.shape\r\n",
        "      self._classes = np.unique(y_train)\r\n",
        "      n_classes = len(self._classes)\r\n",
        "\r\n",
        "      # init: Prior & Likelihood\r\n",
        "      self._priors = np.zeros(n_classes)\r\n",
        "      self._likelihoods = np.zeros((n_classes, n))\r\n",
        "\r\n",
        "      # Get Prior and Likelihood\r\n",
        "      for idx, c in enumerate(self._classes):\r\n",
        "          X_train_c = X_train[c == y_train]\r\n",
        "          self._priors[idx] = X_train_c.shape[0] / m \r\n",
        "          self._likelihoods[idx, :] = ((X_train_c.sum(axis=0)) + self.alpha) / (np.sum(X_train_c.sum(axis=0) + self.alpha))\r\n",
        "\r\n",
        "\r\n",
        "  def predict(self, X_test):\r\n",
        "    return [self._predict(x_test) for x_test in X_test]\r\n",
        "\r\n",
        "  def _predict(self, x_test):\r\n",
        "    # Calculate posterior for each class\r\n",
        "    posteriors = []\r\n",
        "    for idx, c in enumerate(self._classes):\r\n",
        "        prior_c = np.log(self._priors[idx])\r\n",
        "        likelihoods_c = self.calc_likelihood(self._likelihoods[idx,:], x_test)\r\n",
        "        posteriors_c = np.sum(likelihoods_c) + prior_c\r\n",
        "        posteriors.append(posteriors_c)\r\n",
        "\r\n",
        "    return self._classes[np.argmax(posteriors)]\r\n",
        "\r\n",
        "  def calc_likelihood(self, cls_likeli, x_test):\r\n",
        "      return np.log(cls_likeli) * x_test\r\n",
        "\r\n",
        "  def score(self, X_test, y_test):\r\n",
        "      y_pred = self.predict(X_test)\r\n",
        "      return np.sum(y_pred == y_test)/len(y_test)\r\n"
      ],
      "execution_count": null,
      "outputs": []
    },
    {
      "cell_type": "markdown",
      "metadata": {
        "id": "Ep8N4orEo3iJ"
      },
      "source": [
        "reference:https://stackoverflow.com/search?q=user:12312396+naivebayes&s=0e12d82b-e213-4061-808d-4074e67c52f3"
      ]
    },
    {
      "cell_type": "code",
      "metadata": {
        "colab": {
          "base_uri": "https://localhost:8080/"
        },
        "id": "0addVkP_aPSW",
        "outputId": "083e3a27-f14c-405b-bd94-977ab152b82d"
      },
      "source": [
        "from sklearn.metrics import accuracy_score,confusion_matrix\r\n",
        "classifier = MultinomialNB()\r\n",
        "classifier.fit(X_train, y_train)\r\n",
        "\r\n",
        "# Predicting test set\r\n",
        "y_pred = classifier.predict(X_test)\r\n",
        "y_test = np.array(y_test)\r\n",
        "\r\n",
        "print(confusion_matrix(y_test, y_pred))"
      ],
      "execution_count": null,
      "outputs": [
        {
          "output_type": "stream",
          "text": [
            "[[53  0]\n",
            " [ 1 64]]\n"
          ],
          "name": "stdout"
        }
      ]
    },
    {
      "cell_type": "code",
      "metadata": {
        "colab": {
          "base_uri": "https://localhost:8080/"
        },
        "id": "8MP69yZ9qvZ_",
        "outputId": "834387d1-842f-46fc-f8fc-68e5cc061335"
      },
      "source": [
        "#Preview of second 20 test predictions comparing with actual categories\r\n",
        "for i,j in zip(y_test[20:40],y_pred[20:40]):\r\n",
        "  if i ==0:\r\n",
        "    i = \"sci.med\"\r\n",
        "  else:\r\n",
        "    i = \"comp.graphics\"\r\n",
        "  if j ==0:\r\n",
        "    j = \"sci.med\"\r\n",
        "  else:\r\n",
        "    j = \"comp.graphics\"\r\n",
        "  print(f'Actual category: {i}\\t Predicted category: {j}')"
      ],
      "execution_count": null,
      "outputs": [
        {
          "output_type": "stream",
          "text": [
            "Actual category: sci.med\t Predicted category: sci.med\n",
            "Actual category: comp.graphics\t Predicted category: comp.graphics\n",
            "Actual category: sci.med\t Predicted category: sci.med\n",
            "Actual category: sci.med\t Predicted category: sci.med\n",
            "Actual category: sci.med\t Predicted category: sci.med\n",
            "Actual category: comp.graphics\t Predicted category: comp.graphics\n",
            "Actual category: comp.graphics\t Predicted category: comp.graphics\n",
            "Actual category: sci.med\t Predicted category: sci.med\n",
            "Actual category: comp.graphics\t Predicted category: comp.graphics\n",
            "Actual category: comp.graphics\t Predicted category: comp.graphics\n",
            "Actual category: comp.graphics\t Predicted category: comp.graphics\n",
            "Actual category: comp.graphics\t Predicted category: comp.graphics\n",
            "Actual category: comp.graphics\t Predicted category: comp.graphics\n",
            "Actual category: sci.med\t Predicted category: sci.med\n",
            "Actual category: sci.med\t Predicted category: sci.med\n",
            "Actual category: comp.graphics\t Predicted category: comp.graphics\n",
            "Actual category: comp.graphics\t Predicted category: comp.graphics\n",
            "Actual category: comp.graphics\t Predicted category: comp.graphics\n",
            "Actual category: sci.med\t Predicted category: sci.med\n",
            "Actual category: comp.graphics\t Predicted category: comp.graphics\n"
          ],
          "name": "stdout"
        }
      ]
    },
    {
      "cell_type": "markdown",
      "metadata": {
        "id": "wpBUleeZrbsM"
      },
      "source": [
        "- Accuracy of Test set"
      ]
    },
    {
      "cell_type": "code",
      "metadata": {
        "colab": {
          "base_uri": "https://localhost:8080/"
        },
        "id": "RwPKRdevoAI0",
        "outputId": "58636025-b8a9-47b6-8e79-d761c5c2a792"
      },
      "source": [
        "print(\"Accuracy:\", accuracy_score(y_test,y_pred))"
      ],
      "execution_count": null,
      "outputs": [
        {
          "output_type": "stream",
          "text": [
            "Accuracy: 0.9915254237288136\n"
          ],
          "name": "stdout"
        }
      ]
    },
    {
      "cell_type": "markdown",
      "metadata": {
        "id": "ZgwUr7_3ruqW"
      },
      "source": [
        "### Exercise 2: Implementing SVM Classifier via Scikit-Learn"
      ]
    },
    {
      "cell_type": "code",
      "metadata": {
        "colab": {
          "base_uri": "https://localhost:8080/"
        },
        "id": "duvP0yLepKOQ",
        "outputId": "9b4ebdeb-7036-400a-b360-8c27e079b94e"
      },
      "source": [
        "from sklearn.svm import SVC\r\n",
        "from sklearn.model_selection import GridSearchCV\r\n",
        "svc = SVC( random_state=3116)\r\n",
        "grid_parameters = {'C':list(np.arange(0,3,0.1)),'kernel':['linear','rbf','poly','sigmoid'],'gamma':['scale','auto']}\r\n",
        "svc_search = GridSearchCV(svc, grid_parameters, cv=5,n_jobs=-1)\r\n",
        "svc_search.fit(X_train,y_train)"
      ],
      "execution_count": null,
      "outputs": [
        {
          "output_type": "execute_result",
          "data": {
            "text/plain": [
              "GridSearchCV(cv=5, error_score=nan,\n",
              "             estimator=SVC(C=1.0, break_ties=False, cache_size=200,\n",
              "                           class_weight=None, coef0=0.0,\n",
              "                           decision_function_shape='ovr', degree=3,\n",
              "                           gamma='scale', kernel='rbf', max_iter=-1,\n",
              "                           probability=False, random_state=3116, shrinking=True,\n",
              "                           tol=0.001, verbose=False),\n",
              "             iid='deprecated', n_jobs=-1,\n",
              "             param_grid={'C': [0.0, 0.1, 0.2, 0.30000000000000004, 0.4, 0....\n",
              "                               1.0, 1.1, 1.2000000000000002, 1.3,\n",
              "                               1.4000000000000001, 1.5, 1.6, 1.7000000000000002,\n",
              "                               1.8, 1.9000000000000001, 2.0, 2.1, 2.2,\n",
              "                               2.3000000000000003, 2.4000000000000004, 2.5, 2.6,\n",
              "                               2.7, 2.8000000000000003, 2.9000000000000004],\n",
              "                         'gamma': ['scale', 'auto'],\n",
              "                         'kernel': ['linear', 'rbf', 'poly', 'sigmoid']},\n",
              "             pre_dispatch='2*n_jobs', refit=True, return_train_score=False,\n",
              "             scoring=None, verbose=0)"
            ]
          },
          "metadata": {
            "tags": []
          },
          "execution_count": 68
        }
      ]
    },
    {
      "cell_type": "code",
      "metadata": {
        "colab": {
          "base_uri": "https://localhost:8080/"
        },
        "id": "DNKpETovzjY4",
        "outputId": "b495b629-1990-48e8-a0f6-909b33f1b9a5"
      },
      "source": [
        "print(\"Best Parameters:\", svc_search.best_params_)"
      ],
      "execution_count": null,
      "outputs": [
        {
          "output_type": "stream",
          "text": [
            "Best Parameters: {'C': 0.1, 'gamma': 'scale', 'kernel': 'linear'}\n"
          ],
          "name": "stdout"
        }
      ]
    },
    {
      "cell_type": "markdown",
      "metadata": {
        "id": "fvCt2TSo1L2w"
      },
      "source": [
        "For Validation set"
      ]
    },
    {
      "cell_type": "code",
      "metadata": {
        "colab": {
          "base_uri": "https://localhost:8080/"
        },
        "id": "IBFy4vSk1D0r",
        "outputId": "7f3966a9-0043-4628-850d-f5dc8bc23eff"
      },
      "source": [
        "print(\"Accuracy score\",accuracy_score(y_val,svc_search.predict(X_val)))\r\n",
        "print(confusion_matrix(y_val,svc_search.predict(X_val)))"
      ],
      "execution_count": null,
      "outputs": [
        {
          "output_type": "stream",
          "text": [
            "Accuracy score 0.9830508474576272\n",
            "[[63  0]\n",
            " [ 2 53]]\n"
          ],
          "name": "stdout"
        }
      ]
    },
    {
      "cell_type": "code",
      "metadata": {
        "colab": {
          "base_uri": "https://localhost:8080/"
        },
        "id": "e7yBQjtc1jT6",
        "outputId": "3d618f44-decd-464d-ab2a-9c8121097381"
      },
      "source": [
        "print(\"Accuracy:\", accuracy_score(y_val,y_pred_val))"
      ],
      "execution_count": null,
      "outputs": [
        {
          "output_type": "stream",
          "text": [
            "Accuracy: 0.9830508474576272\n"
          ],
          "name": "stdout"
        }
      ]
    },
    {
      "cell_type": "markdown",
      "metadata": {
        "id": "vPr8pnqGffOR"
      },
      "source": [
        "For Test Set"
      ]
    },
    {
      "cell_type": "code",
      "metadata": {
        "colab": {
          "base_uri": "https://localhost:8080/"
        },
        "id": "GbdCo-_92-D0",
        "outputId": "6a8e3631-7008-47ba-a3e6-946f24eac635"
      },
      "source": [
        "print(\"Accuracy score\",accuracy_score(y_test,svc_search.predict(X_test)))\r\n",
        "print(confusion_matrix(y_test,svc_search.predict(X_test)))"
      ],
      "execution_count": null,
      "outputs": [
        {
          "output_type": "stream",
          "text": [
            "Accuracy score 1.0\n",
            "[[53  0]\n",
            " [ 0 65]]\n"
          ],
          "name": "stdout"
        }
      ]
    },
    {
      "cell_type": "markdown",
      "metadata": {
        "id": "9c6jIF24gLg9"
      },
      "source": [
        "After tuning the hyperparameters for the validation set, we got an accuracy of 0.983 on the validation set and an accuracy of 1 on the test set"
      ]
    }
  ]
}